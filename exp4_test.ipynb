{
 "cells": [
  {
   "cell_type": "code",
   "execution_count": 1,
   "metadata": {},
   "outputs": [
    {
     "name": "stderr",
     "output_type": "stream",
     "text": [
      "/home/gwy/miniconda3/envs/torch/lib/python3.11/site-packages/tqdm/auto.py:21: TqdmWarning: IProgress not found. Please update jupyter and ipywidgets. See https://ipywidgets.readthedocs.io/en/stable/user_install.html\n",
      "  from .autonotebook import tqdm as notebook_tqdm\n"
     ]
    }
   ],
   "source": [
    "import json\n",
    "import argparse\n",
    "from src.model.api import LLM_API\n",
    "from src.model.llm import LLM_local\n",
    "from src.role_person_generation import generate_persona_description\n",
    "from src.role_occupation_generation import generate_persona_occupation_description\n",
    "from src.evaluate import evaluate_mfq30 , evaluation_pvqrr\n",
    "import re\n",
    "import json\n",
    "from collections import Counter\n",
    "import os\n",
    "API_MODEL = [\"gpt-3.5-turbo\", \"gpt-4\", \"gpt-4o\", \"gpt-4o-mini\"]\n",
    "\n",
    "personas = generate_persona_occupation_description(500)"
   ]
  },
  {
   "cell_type": "code",
   "execution_count": 3,
   "metadata": {},
   "outputs": [],
   "source": [
    "import json \n",
    "\n",
    "with open(\"person_500.json\", 'w') as file:\n",
    "    json.dump(personas, file, indent=4)\n"
   ]
  }
 ],
 "metadata": {
  "kernelspec": {
   "display_name": "torch",
   "language": "python",
   "name": "python3"
  },
  "language_info": {
   "codemirror_mode": {
    "name": "ipython",
    "version": 3
   },
   "file_extension": ".py",
   "mimetype": "text/x-python",
   "name": "python",
   "nbconvert_exporter": "python",
   "pygments_lexer": "ipython3",
   "version": "3.11.9"
  }
 },
 "nbformat": 4,
 "nbformat_minor": 2
}
