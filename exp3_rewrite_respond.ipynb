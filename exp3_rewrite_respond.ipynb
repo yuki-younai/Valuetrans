{
 "cells": [
  {
   "cell_type": "code",
   "execution_count": 1,
   "metadata": {},
   "outputs": [],
   "source": [
    "import json\n",
    "import copy\n",
    "import argparse\n",
    "import re\n",
    "import json\n",
    "from datetime import datetime\n",
    "from collections import Counter\n",
    "import sys\n",
    "import time\n",
    "from openai import OpenAI\n",
    "\n",
    "class LLM_API:\n",
    "    def __init__(self, model_name, api_key='sk-niOAmocxt0CTM6CV21715708304942269c13AeCeD19584D7', base_url=\"https://api.claudeshop.top/v1\"):\n",
    "        self.client = OpenAI(api_key=api_key, base_url=base_url)\n",
    "        self.model = model_name\n",
    "\n",
    "    def respond(self,  messages, temperature=0.7, max_tokens=256, stop=None):\n",
    "\n",
    "        repeat_num = 0\n",
    "        response_data = None\n",
    "        while response_data == None:\n",
    "            repeat_num += 1\n",
    "            if repeat_num>5:\n",
    "                response_data = \"I Don't Know!\"\n",
    "            try:\n",
    "                completion = self.client.chat.completions.create(\n",
    "                    model=self.model,\n",
    "                    messages= messages,\n",
    "                    timeout=15,\n",
    "                    temperature=temperature,\n",
    "                    max_tokens=max_tokens,\n",
    "                    top_p=1,\n",
    "                    stop=stop\n",
    "                )\n",
    "                response_data = completion.choices[0].message.content\n",
    "                break\n",
    "            except KeyboardInterrupt:\n",
    "                sys.exit()\n",
    "            except:\n",
    "                print(\"Request timed out, retrying...\")\n",
    "                \n",
    "        return response_data\n",
    "\n",
    "llm_model = LLM_API(\"gpt-3.5-turbo\")"
   ]
  },
  {
   "cell_type": "code",
   "execution_count": 2,
   "metadata": {},
   "outputs": [],
   "source": [
    "grained_decompos = {}\n",
    "grained_decompos[\"Achievement\"] = [\"\\n1. Competence:\\n- Positive Indicator: Emphasizes the importance of demonstrating skill and proficiency in tasks (e.g., excelling in academic or professional settings).\\n- Negative Indicator: Shows indifference towards skill development or a lack of effort in demonstrating competence.\",\n",
    "                                   \"\\n2. Ambition:\\n- Positive Indicator: Reflects a strong desire to achieve and excel (e.g., setting high goals and striving to reach them).\\n- Negative Indicator: Indicates complacency or a lack of motivation to pursue personal success.\",\n",
    "                                   \"\\n3. Success:\\n- Positive Indicator: Values tangible accomplishments and recognition for achievements (e.g., receiving awards or promotions).\\n- Negative Indicator: Downplays the significance of success or equates it with superficial achievements.\",\n",
    "                                   \"\\n4. Social Approval:\\n Positive Indicator: Acknowledges the importance of gaining recognition and respect from others (e.g., seeking validation from peers and society).\\n - Negative Indicator: Dismisses the need for social recognition, prioritizing personal satisfaction over external validation.\"]\n",
    "\n",
    "values_decrip = {}\n",
    "values_decrip['Achievement'] = \"Creativity is the value that drives the generation of novel and valuable ideas, solutions, or products through original thinking, embodying characteristics such as innovation, uniqueness, and societal or personal utility.\""
   ]
  },
  {
   "cell_type": "code",
   "execution_count": 3,
   "metadata": {},
   "outputs": [],
   "source": [
    "import pandas as pd\n",
    "import json\n",
    "\n",
    "# 打开JSON文件并读取数据\n",
    "with open('Datasets/origin_qa/achievement_QA.json', 'r', encoding='utf-8') as file:\n",
    "    qa_data = json.load(file)\n",
    "with open(\"Datasets/prompt/exp3_rewrite_respond.txt\", 'r') as file:\n",
    "    rewrite_prompt_format = file.read()\n",
    "with open(\"Datasets/prompt/exp3_rewrire_evaluate.txt\", 'r') as file:\n",
    "    evaluate_prompt_format = file.read()"
   ]
  },
  {
   "cell_type": "code",
   "execution_count": 23,
   "metadata": {},
   "outputs": [
    {
     "name": "stdout",
     "output_type": "stream",
     "text": [
      "######################### 0 / 854 ###########################################################\n",
      "#########################New Rewrite Answer###########################################################\n",
      "Question: What do you have planned for tomorrow that involves showcasing your singing talent?\n",
      "Answer: Tomorrow I will audition my singing in a talent show.\n",
      "New_Answer: I have a performance scheduled tomorrow where I will be showcasing my singing talent.\"\n",
      "#########################Start person Evaluate###########################################################\n",
      "Evaluate_score: 1\n",
      "Finally_score: 1.125\n",
      "Best_score: 1.125\n",
      "Best_Answer: I have a performance scheduled tomorrow where I will be showcasing my singing talent.\"\n",
      "#########################New Rewrite Answer###########################################################\n",
      "Question: What do you have planned for tomorrow that involves showcasing your singing talent?\n",
      "Answer: Tomorrow I will audition my singing in a talent show.\n",
      "New_Answer: Tomorrow, I have a talent show audition where I will be showcasing my singing skills.\"\n",
      "#########################Start person Evaluate###########################################################\n",
      "Evaluate_score: 0\n",
      "Finally_score: 1.625\n",
      "Best_score: 1.625\n",
      "Best_Answer: Tomorrow, I have a talent show audition where I will be showcasing my singing skills.\"\n",
      "#########################New Rewrite Answer###########################################################\n",
      "Question: What do you have planned for tomorrow that involves showcasing your singing talent?\n",
      "Answer: Tomorrow I will audition my singing in a talent show.\n",
      "New_Answer: I have a singing audition scheduled for tomorrow at a talent show.\"\n",
      "#########################Start person Evaluate###########################################################\n",
      "Evaluate_score: 1\n",
      "Finally_score: 1.375\n",
      "Best_score: 1.625\n",
      "Best_Answer: Tomorrow, I have a talent show audition where I will be showcasing my singing skills.\"\n",
      "Fianlly_Best_Answer: Tomorrow, I have a talent show audition where I will be showcasing my singing skills.\"\n"
     ]
    }
   ],
   "source": [
    "import re\n",
    "from src.role_person_generation import generate_persona_description\n",
    "from src.role_occupation_generation import generate_persona_occupation_description\n",
    "\n",
    "max_rewrite_num = 3\n",
    "role_num = 4\n",
    "\n",
    "values = \"Achievement\"\n",
    "agree_level = \"Strongly agree\"\n",
    "agree_score_base = 2\n",
    "grained_decrip = ''.join(grained_decompos[values])\n",
    "answer_pattern = r'(?<=\"New_Answer\": \")[^\"]*\"'\n",
    "evaluate_pattern = r'(?<=\"levels\": \")[^\"]*\"'\n",
    "for idx, qa in enumerate(qa_data):\n",
    "    print(\"#########################\",idx,\"/\",len(qa_data),\"###########################################################\")\n",
    "    best_score = 999\n",
    "    best_answer = None\n",
    "    for j in range(max_rewrite_num):\n",
    "        #1.重写回答\n",
    "        question = qa['question']\n",
    "        answer = qa['answer']\n",
    "        print(\"#########################New Rewrite Answer###########################################################\")\n",
    "        print(\"Question:\", question)\n",
    "        print(\"Answer:\", answer)\n",
    "        rewrite_prompt = rewrite_prompt_format.replace(\"{value}\", values)\n",
    "        rewrite_prompt = rewrite_prompt.replace(\"{description}\", values_decrip[values])\n",
    "        rewrite_prompt = rewrite_prompt.replace(\"{grained_description}\", grained_decrip)\n",
    "        rewrite_prompt = rewrite_prompt.replace(\"{agree_level}\", agree_level)\n",
    "        rewrite_prompt = rewrite_prompt.replace(\"{question}\", question)\n",
    "        rewrite_prompt = rewrite_prompt.replace(\"{answer}\", answer)\n",
    "\n",
    "        messages = []\n",
    "        messages.append({\"role\": \"user\", \"content\": rewrite_prompt})\n",
    "        new_answer = llm_model.respond(messages)\n",
    "\n",
    "        match = re.search(answer_pattern, new_answer)\n",
    "        if match:\n",
    "            new_answer = match.group(0)\n",
    "        print(\"New_Answer:\", new_answer)\n",
    "        print(\"#########################Start person Evaluate###########################################################\")\n",
    "        #2.生成k个角色，分别对细粒度价值观进行评审\n",
    "        personas = generate_persona_occupation_description(role_num)\n",
    "        evaluate_scores = [0]*len(grained_decompos[\"Achievement\"])\n",
    "        for per in personas:\n",
    "            person_prompt =\"USER: \"\n",
    "            person_prompt += \"Let's role-play. I will ask you a question and you must give me an answer. I want you to act as the person described below. Think from the person's perspective. \\n\"\n",
    "            person_prompt += f\"{per['description']} \\n\"\n",
    "            person_prompt += \"Use the given information to answer the question below. \\n\"\n",
    "\n",
    "            for grain_idx, grained in enumerate(grained_decompos[\"Achievement\"]):\n",
    "                grained_person_prompt = person_prompt + evaluate_prompt_format.replace(\"{value}\", values)\n",
    "                grained_person_prompt = grained_person_prompt.replace(\"{description}\", values_decrip[values])\n",
    "                grained_person_prompt = grained_person_prompt.replace(\"{grained_description}\", grained)\n",
    "                grained_person_prompt = grained_person_prompt.replace(\"{statement}\", new_answer)\n",
    "\n",
    "                messages = []\n",
    "                messages.append({\"role\": \"user\", \"content\": grained_person_prompt})\n",
    "                evaluate_response = llm_model.respond(messages)\n",
    "\n",
    "                if \"agree\" in evaluate_response.lower():\n",
    "                    evaluate_score = 1\n",
    "                elif \"neutral\" in evaluate_response.lower():\n",
    "                    evaluate_score = 0\n",
    "                elif \"disagree\" in evaluate_response.lower():\n",
    "                    evaluate_score = -1\n",
    "                else:\n",
    "                    evaluate_score = 0\n",
    "                evaluate_scores[grain_idx] += evaluate_score \n",
    "        #3.当分数差距小于0.3时，跳出\n",
    "        agree_score = 2 * sum(evaluate_scores)/ (role_num) / len(evaluate_scores)\n",
    "        if abs(agree_score-agree_score_base)<abs(best_score-agree_score_base):\n",
    "            best_score = agree_score\n",
    "            best_answer = new_answer\n",
    "        print(\"Evaluate_score:\", evaluate_score)\n",
    "        print(\"Finally_score:\", agree_score)\n",
    "        print(\"Best_score:\", best_score)\n",
    "        print(\"Best_Answer:\", best_answer)\n",
    "        \n",
    "        if abs(best_score-agree_score_base)<0.3:\n",
    "            break\n",
    "    print(\"Fianlly_Best_Answer:\", best_answer)            \n",
    "    break"
   ]
  },
  {
   "cell_type": "code",
   "execution_count": 22,
   "metadata": {},
   "outputs": [
    {
     "data": {
      "text/plain": [
       "1.375"
      ]
     },
     "execution_count": 22,
     "metadata": {},
     "output_type": "execute_result"
    }
   ],
   "source": [
    "2 * sum(evaluate_scores)/ (role_num) / len(evaluate_scores)"
   ]
  },
  {
   "cell_type": "code",
   "execution_count": 21,
   "metadata": {},
   "outputs": [
    {
     "data": {
      "text/plain": [
       "[1, 4, 3, 3]"
      ]
     },
     "execution_count": 21,
     "metadata": {},
     "output_type": "execute_result"
    }
   ],
   "source": [
    "evaluate_scores"
   ]
  },
  {
   "cell_type": "code",
   "execution_count": 11,
   "metadata": {},
   "outputs": [],
   "source": [
    "evaluate_score = [0]*len(grained_decompos[\"Achievement\"])"
   ]
  },
  {
   "cell_type": "code",
   "execution_count": 15,
   "metadata": {},
   "outputs": [
    {
     "data": {
      "text/plain": [
       "0"
      ]
     },
     "execution_count": 15,
     "metadata": {},
     "output_type": "execute_result"
    }
   ],
   "source": [
    "evaluate_score[grain_idx]"
   ]
  },
  {
   "cell_type": "code",
   "execution_count": 14,
   "metadata": {},
   "outputs": [
    {
     "data": {
      "text/plain": [
       "0"
      ]
     },
     "execution_count": 14,
     "metadata": {},
     "output_type": "execute_result"
    }
   ],
   "source": [
    "grain_idx"
   ]
  }
 ],
 "metadata": {
  "kernelspec": {
   "display_name": "torch",
   "language": "python",
   "name": "python3"
  },
  "language_info": {
   "codemirror_mode": {
    "name": "ipython",
    "version": 3
   },
   "file_extension": ".py",
   "mimetype": "text/x-python",
   "name": "python",
   "nbconvert_exporter": "python",
   "pygments_lexer": "ipython3",
   "version": "3.11.9"
  }
 },
 "nbformat": 4,
 "nbformat_minor": 2
}
