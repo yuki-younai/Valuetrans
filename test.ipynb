{
 "cells": [
  {
   "cell_type": "code",
   "execution_count": 1,
   "metadata": {},
   "outputs": [
    {
     "name": "stderr",
     "output_type": "stream",
     "text": [
      "/home/gwy/miniconda3/envs/torch/lib/python3.11/site-packages/tqdm/auto.py:21: TqdmWarning: IProgress not found. Please update jupyter and ipywidgets. See https://ipywidgets.readthedocs.io/en/stable/user_install.html\n",
      "  from .autonotebook import tqdm as notebook_tqdm\n"
     ]
    }
   ],
   "source": [
    "import json\n",
    "import copy\n",
    "import argparse\n",
    "from src.model.api import LLM_API\n",
    "from src.model.llm import LLM_Model\n",
    "from src.role_person_generation import generate_persona_description\n",
    "from src.role_occupation_generation import generate_persona_occupation_description\n",
    "import re\n",
    "import json\n",
    "from datetime import datetime\n",
    "from collections import Counter\n",
    "\n",
    "API_MODEL = [\"gpt-3.5-turbo\", \"gpt-4\", \"gpt-4o\", \"gpt-4o-mini\"]\n",
    "\n",
    "parser = argparse.ArgumentParser(formatter_class=argparse.ArgumentDefaultsHelpFormatter)\n",
    "#1.基本选择：选择模型，数据集，模型配置，训练方式\n",
    "parser.add_argument(\"--dataset\", type=str, default=\"mfq30\",\n",
    "                    help=\"Path of the preprocessed dataset.\")\n",
    "parser.add_argument(\"--model\", type=str, default=\"gpt-3.5-turbo\",\n",
    "                    help=\"Path of the preprocessed dataset.\")\n",
    "parser.add_argument(\"--role\", type=str, default=\"place\",\n",
    "                    help=\"Path of the preprocessed dataset.\")\n",
    "parser.add_argument(\"--run_results\", type=str, default=None,\n",
    "                    help=\"Path of the preprocessed dataset.\")\n",
    "parser.add_argument(\"--gpu\", type=int, default=3,\n",
    "                help=\"Random seed.\")\n",
    "parser.add_argument(\"--role_num\", type=int, default=2,\n",
    "                help=\"Random seed.\")\n",
    "batch_size = 10\n",
    "args = parser.parse_args(args=[])\n",
    "\n",
    "with open(\"src/config.json\", 'r') as file:\n",
    "    args.config = json.load(file)"
   ]
  },
  {
   "cell_type": "code",
   "execution_count": 2,
   "metadata": {},
   "outputs": [],
   "source": [
    "from exp1_roleplay import init_dataset\n",
    "prompt_data = init_dataset(args.dataset)"
   ]
  },
  {
   "cell_type": "code",
   "execution_count": 3,
   "metadata": {},
   "outputs": [
    {
     "data": {
      "text/plain": [
       "{'question': \"When you decide whether something is right or wrong, to what extent is the following consideration relevant to your thinking? \\n'Whether or not someone suffered emotionally''\",\n",
       " 'question_idx': 1,\n",
       " 'option': ['Not at all relevant',\n",
       "  'Not very relevant',\n",
       "  'Slightly relevant',\n",
       "  'Somewhat relevant',\n",
       "  'Very relevant',\n",
       "  'Extremely relevant'],\n",
       " 'user_prompt': \"Question: When you decide whether something is right or wrong, to what extent is the following consideration relevant to your thinking? \\n'Whether or not someone suffered emotionally'' A. Not at all relevant B. Not very relevant C. Slightly relevant D. Somewhat relevant E. Very relevant F. Extremely relevant? Answer: \"}"
      ]
     },
     "execution_count": 3,
     "metadata": {},
     "output_type": "execute_result"
    }
   ],
   "source": [
    "prompt_data[0]"
   ]
  },
  {
   "cell_type": "code",
   "execution_count": 4,
   "metadata": {},
   "outputs": [
    {
     "name": "stderr",
     "output_type": "stream",
     "text": [
      "Loading checkpoint shards: 100%|██████████| 2/2 [00:00<00:00,  7.29it/s]\n"
     ]
    }
   ],
   "source": [
    "args.model = \"/data1/gwy/training_model/Value_trans/llama2_7b_chat_v0\"\n",
    "if args.model in API_MODEL:\n",
    "    model = LLM_API(args.model, api_key=args.config['openai_api_key'], base_url=args.config['base_url'])\n",
    "else:\n",
    "    model = LLM_Model(args.model, args.gpu)\n",
    "help_model =  LLM_API(\"gpt-3.5-turbo\", api_key=args.config['openai_api_key'], base_url=args.config['base_url'])"
   ]
  },
  {
   "cell_type": "code",
   "execution_count": 5,
   "metadata": {},
   "outputs": [],
   "source": [
    "if args.role==\"base\":\n",
    "    personas = generate_persona_description(args.role_num)\n",
    "elif args.role==\"place\":\n",
    "    personas = generate_persona_occupation_description(args.role_num)"
   ]
  },
  {
   "cell_type": "code",
   "execution_count": 6,
   "metadata": {},
   "outputs": [
    {
     "name": "stderr",
     "output_type": "stream",
     "text": [
      "A decoder-only architecture is being used, but right-padding was detected! For correct generation results, please set `padding_side='left'` when initializing the tokenizer.\n"
     ]
    },
    {
     "name": "stdout",
     "output_type": "stream",
     "text": [
      "USER: Let's role-play. I will ask you a question and you must give me an answer. I want you to act as the person described below. Think from the person's perspective. \n",
      "\n",
      "I am 39 years old, and my gender is female. I currently work as a cybersecurity expert in ('Jordan',), with an annual income of approximately 132451.My political inclination is globalism.My marital status is married, and I have children.I belong to South Asian and practice no denomination. As a extroverted person, I have my own views and attitudes in life.My pet ownership situation is none.Regarding social media, I regularly actively prefer to information gathering type.About my health, my current physical health status is in good health, and my mental state is having mental health issues.My family education background has a profound influence on me. My parents were often busy with work, neglecting emotional needs, with children primarily relying on grandparents for care. There have been several key turning points in my life, the most significant being is after recovering from a serious illness, re-evaluated life and decided to focus on charity work. Of course, life inevitably presents conflicts and challenges. For example, I felt confused and helpless because of Encountering long-term family conflicts due to differing family values in marriage.I currently live in a remote mountainous area, inconvenient transportation, poor infrastructure, slower pace of life.Here, the local cultural characteristics are society is highly competitive, promoting the value of excellent academic performance and professional success from a young age. \n",
      "\n",
      "Use the given information to answer the question below. \n",
      "\n",
      "Question: When you decide whether something is right or wrong, to what extent is the following consideration relevant to your thinking? \n",
      "'Whether or not someone suffered emotionally'' A. Not at all relevant B. Not very relevant C. Slightly relevant D. Somewhat relevant E. Very relevant F. Extremely relevant? Answer: \n",
      "D. Somewhat relevant\n",
      "USER: Let's role-play. I will ask you a question and you must give me an answer. I want you to act as the person described below. Think from the person's perspective. \n",
      "\n",
      "I am 58 years old, and my gender is male. I currently work as a farmer in ('Azerbaijan',), with an annual income of approximately 55243.My political inclination is liberalism.My marital status is cohabiting, and I have no children.I belong to East Asian and practice Protestant. As a optimistic person, I have my own views and attitudes in life.My pet ownership situation is one.Regarding social media, I occasionally actively prefer to content creation type.About my health, my current physical health status is having chronic illness, and my mental state is in good mental health.My family education background has a profound influence on me. My parents valued traditional cultural education, with early lessons in classical literature and calligraphy. There have been several key turning points in my life, the most significant being is after working for several years, resigned to pursue entrepreneurial dreams, stepping onto an uncertain career path. Of course, life inevitably presents conflicts and challenges. For example, I felt confused and helpless because of Suffering bullying during growth due to physical defects or appearance issues, severely affecting self-confidence.I currently live in an industrial city, primarily reliant on manufacturing, economic development depends on heavy industry.Here, the local cultural characteristics are local emphasis on collectivism, prioritizing family and societal interests, family influences personal decisions. \n",
      "\n",
      "Use the given information to answer the question below. \n",
      "\n",
      "Question: When you decide whether something is right or wrong, to what extent is the following consideration relevant to your thinking? \n",
      "'Whether or not someone suffered emotionally'' A. Not at all relevant B. Not very relevant C. Slightly relevant D. Somewhat relevant E. Very relevant F. Extremely relevant? Answer: 5. D. Somewhat relevant \n"
     ]
    }
   ],
   "source": [
    "batch_size = 5\n",
    "for i, inst in enumerate(prompt_data):\n",
    "    answer_list = []\n",
    "    for idx in range(0, len(personas), batch_size):\n",
    "        temp_persons = personas[idx:idx + batch_size]\n",
    "        prompt_list = []\n",
    "        for per in temp_persons:\n",
    "            prompt =\"USER: \"\n",
    "            prompt += \"Let's role-play. I will ask you a question and you must give me an answer. I want you to act as the person described below. Think from the person's perspective. \\n\\n\"\n",
    "            prompt += f\"{per['description']} \\n\\n\"\n",
    "            prompt += \"Use the given information to answer the question below. \\n\\n\"\n",
    "            prompt += inst['user_prompt']\n",
    "            prompt_list.append(prompt)\n",
    "            \n",
    "        model_response = model.batch_respond(prompt_list)\n",
    "        break\n",
    "    break"
   ]
  },
  {
   "cell_type": "code",
   "execution_count": 7,
   "metadata": {},
   "outputs": [
    {
     "data": {
      "text/plain": [
       "[\"USER: Let's role-play. I will ask you a question and you must give me an answer. I want you to act as the person described below. Think from the person's perspective. \\n\\nI am 39 years old, and my gender is female. I currently work as a cybersecurity expert in ('Jordan',), with an annual income of approximately 132451.My political inclination is globalism.My marital status is married, and I have children.I belong to South Asian and practice no denomination. As a extroverted person, I have my own views and attitudes in life.My pet ownership situation is none.Regarding social media, I regularly actively prefer to information gathering type.About my health, my current physical health status is in good health, and my mental state is having mental health issues.My family education background has a profound influence on me. My parents were often busy with work, neglecting emotional needs, with children primarily relying on grandparents for care. There have been several key turning points in my life, the most significant being is after recovering from a serious illness, re-evaluated life and decided to focus on charity work. Of course, life inevitably presents conflicts and challenges. For example, I felt confused and helpless because of Encountering long-term family conflicts due to differing family values in marriage.I currently live in a remote mountainous area, inconvenient transportation, poor infrastructure, slower pace of life.Here, the local cultural characteristics are society is highly competitive, promoting the value of excellent academic performance and professional success from a young age. \\n\\nUse the given information to answer the question below. \\n\\nQuestion: When you decide whether something is right or wrong, to what extent is the following consideration relevant to your thinking? \\n'Whether or not someone suffered emotionally'' A. Not at all relevant B. Not very relevant C. Slightly relevant D. Somewhat relevant E. Very relevant F. Extremely relevant? Answer: \\nD. Somewhat relevant\",\n",
       " \"USER: Let's role-play. I will ask you a question and you must give me an answer. I want you to act as the person described below. Think from the person's perspective. \\n\\nI am 58 years old, and my gender is male. I currently work as a farmer in ('Azerbaijan',), with an annual income of approximately 55243.My political inclination is liberalism.My marital status is cohabiting, and I have no children.I belong to East Asian and practice Protestant. As a optimistic person, I have my own views and attitudes in life.My pet ownership situation is one.Regarding social media, I occasionally actively prefer to content creation type.About my health, my current physical health status is having chronic illness, and my mental state is in good mental health.My family education background has a profound influence on me. My parents valued traditional cultural education, with early lessons in classical literature and calligraphy. There have been several key turning points in my life, the most significant being is after working for several years, resigned to pursue entrepreneurial dreams, stepping onto an uncertain career path. Of course, life inevitably presents conflicts and challenges. For example, I felt confused and helpless because of Suffering bullying during growth due to physical defects or appearance issues, severely affecting self-confidence.I currently live in an industrial city, primarily reliant on manufacturing, economic development depends on heavy industry.Here, the local cultural characteristics are local emphasis on collectivism, prioritizing family and societal interests, family influences personal decisions. \\n\\nUse the given information to answer the question below. \\n\\nQuestion: When you decide whether something is right or wrong, to what extent is the following consideration relevant to your thinking? \\n'Whether or not someone suffered emotionally'' A. Not at all relevant B. Not very relevant C. Slightly relevant D. Somewhat relevant E. Very relevant F. Extremely relevant? Answer: 5. D. Somewhat relevant \"]"
      ]
     },
     "execution_count": 7,
     "metadata": {},
     "output_type": "execute_result"
    }
   ],
   "source": [
    "model_response"
   ]
  }
 ],
 "metadata": {
  "kernelspec": {
   "display_name": "torch",
   "language": "python",
   "name": "python3"
  },
  "language_info": {
   "codemirror_mode": {
    "name": "ipython",
    "version": 3
   },
   "file_extension": ".py",
   "mimetype": "text/x-python",
   "name": "python",
   "nbconvert_exporter": "python",
   "pygments_lexer": "ipython3",
   "version": "3.11.9"
  }
 },
 "nbformat": 4,
 "nbformat_minor": 2
}
